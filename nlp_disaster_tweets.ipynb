{
 "cells": [
  {
   "cell_type": "markdown",
   "id": "ae9873f7",
   "metadata": {},
   "source": [
    "# Natural Language Processing with Disaster Tweets\n",
    "\n",
    "GitHub Repository: https://github.com/niju789/NLP-Disaster-Tweets\n",
    "\n",
    "## 1 - Introduction\n",
    "\n",
    "### 1.1 - Problem\n",
    "\n",
    "This project aims to develop and train a recurrent neural network (RNN) to classify tweets based on whether the tweet is about real disasters.\n",
    "\n",
    "### 1.2 - Data\n",
    "\n",
    "The data provided includes two CSV files, one of which is the training set and the other is the testing set. The training set contains 7,613 rows and the testing set contains 3,263 rows. Both sets contain the columns \"id\", \"keyword\", \"location\", and \"text\". The training set contains the additional column \"target\" where the value for each row is 1 if the tweet is about a real disaster and 0 otherwise."
   ]
  },
  {
   "cell_type": "markdown",
   "id": "4d9813a6",
   "metadata": {},
   "source": [
    "## 2 - Exploratory Data Analysis (EDA)\n",
    "\n",
    "### 2.1 - Data Inspection\n",
    "\n",
    "#### 2.1.1 - File/Table Structure"
   ]
  },
  {
   "cell_type": "code",
   "execution_count": 1,
   "id": "6def1d9a",
   "metadata": {},
   "outputs": [],
   "source": [
    "import pandas as pd\n",
    "\n",
    "# Load training and testing sets\n",
    "train = pd.read_csv('./data/train.csv')\n",
    "test = pd.read_csv('./data/test.csv')"
   ]
  },
  {
   "cell_type": "code",
   "execution_count": 2,
   "id": "a10cb77a",
   "metadata": {},
   "outputs": [
    {
     "data": {
      "text/html": [
       "<div>\n",
       "<style scoped>\n",
       "    .dataframe tbody tr th:only-of-type {\n",
       "        vertical-align: middle;\n",
       "    }\n",
       "\n",
       "    .dataframe tbody tr th {\n",
       "        vertical-align: top;\n",
       "    }\n",
       "\n",
       "    .dataframe thead th {\n",
       "        text-align: right;\n",
       "    }\n",
       "</style>\n",
       "<table border=\"1\" class=\"dataframe\">\n",
       "  <thead>\n",
       "    <tr style=\"text-align: right;\">\n",
       "      <th></th>\n",
       "      <th>id</th>\n",
       "      <th>keyword</th>\n",
       "      <th>location</th>\n",
       "      <th>text</th>\n",
       "      <th>target</th>\n",
       "    </tr>\n",
       "  </thead>\n",
       "  <tbody>\n",
       "    <tr>\n",
       "      <th>0</th>\n",
       "      <td>1</td>\n",
       "      <td>NaN</td>\n",
       "      <td>NaN</td>\n",
       "      <td>Our Deeds are the Reason of this #earthquake M...</td>\n",
       "      <td>1</td>\n",
       "    </tr>\n",
       "    <tr>\n",
       "      <th>1</th>\n",
       "      <td>4</td>\n",
       "      <td>NaN</td>\n",
       "      <td>NaN</td>\n",
       "      <td>Forest fire near La Ronge Sask. Canada</td>\n",
       "      <td>1</td>\n",
       "    </tr>\n",
       "    <tr>\n",
       "      <th>2</th>\n",
       "      <td>5</td>\n",
       "      <td>NaN</td>\n",
       "      <td>NaN</td>\n",
       "      <td>All residents asked to 'shelter in place' are ...</td>\n",
       "      <td>1</td>\n",
       "    </tr>\n",
       "    <tr>\n",
       "      <th>3</th>\n",
       "      <td>6</td>\n",
       "      <td>NaN</td>\n",
       "      <td>NaN</td>\n",
       "      <td>13,000 people receive #wildfires evacuation or...</td>\n",
       "      <td>1</td>\n",
       "    </tr>\n",
       "    <tr>\n",
       "      <th>4</th>\n",
       "      <td>7</td>\n",
       "      <td>NaN</td>\n",
       "      <td>NaN</td>\n",
       "      <td>Just got sent this photo from Ruby #Alaska as ...</td>\n",
       "      <td>1</td>\n",
       "    </tr>\n",
       "  </tbody>\n",
       "</table>\n",
       "</div>"
      ],
      "text/plain": [
       "   id keyword location                                               text   \n",
       "0   1     NaN      NaN  Our Deeds are the Reason of this #earthquake M...  \\\n",
       "1   4     NaN      NaN             Forest fire near La Ronge Sask. Canada   \n",
       "2   5     NaN      NaN  All residents asked to 'shelter in place' are ...   \n",
       "3   6     NaN      NaN  13,000 people receive #wildfires evacuation or...   \n",
       "4   7     NaN      NaN  Just got sent this photo from Ruby #Alaska as ...   \n",
       "\n",
       "   target  \n",
       "0       1  \n",
       "1       1  \n",
       "2       1  \n",
       "3       1  \n",
       "4       1  "
      ]
     },
     "execution_count": 2,
     "metadata": {},
     "output_type": "execute_result"
    }
   ],
   "source": [
    "# Show first 5 rows of training set\n",
    "train.head()"
   ]
  },
  {
   "cell_type": "code",
   "execution_count": 3,
   "id": "92a8c2ad",
   "metadata": {},
   "outputs": [
    {
     "data": {
      "text/html": [
       "<div>\n",
       "<style scoped>\n",
       "    .dataframe tbody tr th:only-of-type {\n",
       "        vertical-align: middle;\n",
       "    }\n",
       "\n",
       "    .dataframe tbody tr th {\n",
       "        vertical-align: top;\n",
       "    }\n",
       "\n",
       "    .dataframe thead th {\n",
       "        text-align: right;\n",
       "    }\n",
       "</style>\n",
       "<table border=\"1\" class=\"dataframe\">\n",
       "  <thead>\n",
       "    <tr style=\"text-align: right;\">\n",
       "      <th></th>\n",
       "      <th>id</th>\n",
       "      <th>keyword</th>\n",
       "      <th>location</th>\n",
       "      <th>text</th>\n",
       "    </tr>\n",
       "  </thead>\n",
       "  <tbody>\n",
       "    <tr>\n",
       "      <th>0</th>\n",
       "      <td>0</td>\n",
       "      <td>NaN</td>\n",
       "      <td>NaN</td>\n",
       "      <td>Just happened a terrible car crash</td>\n",
       "    </tr>\n",
       "    <tr>\n",
       "      <th>1</th>\n",
       "      <td>2</td>\n",
       "      <td>NaN</td>\n",
       "      <td>NaN</td>\n",
       "      <td>Heard about #earthquake is different cities, s...</td>\n",
       "    </tr>\n",
       "    <tr>\n",
       "      <th>2</th>\n",
       "      <td>3</td>\n",
       "      <td>NaN</td>\n",
       "      <td>NaN</td>\n",
       "      <td>there is a forest fire at spot pond, geese are...</td>\n",
       "    </tr>\n",
       "    <tr>\n",
       "      <th>3</th>\n",
       "      <td>9</td>\n",
       "      <td>NaN</td>\n",
       "      <td>NaN</td>\n",
       "      <td>Apocalypse lighting. #Spokane #wildfires</td>\n",
       "    </tr>\n",
       "    <tr>\n",
       "      <th>4</th>\n",
       "      <td>11</td>\n",
       "      <td>NaN</td>\n",
       "      <td>NaN</td>\n",
       "      <td>Typhoon Soudelor kills 28 in China and Taiwan</td>\n",
       "    </tr>\n",
       "  </tbody>\n",
       "</table>\n",
       "</div>"
      ],
      "text/plain": [
       "   id keyword location                                               text\n",
       "0   0     NaN      NaN                 Just happened a terrible car crash\n",
       "1   2     NaN      NaN  Heard about #earthquake is different cities, s...\n",
       "2   3     NaN      NaN  there is a forest fire at spot pond, geese are...\n",
       "3   9     NaN      NaN           Apocalypse lighting. #Spokane #wildfires\n",
       "4  11     NaN      NaN      Typhoon Soudelor kills 28 in China and Taiwan"
      ]
     },
     "execution_count": 3,
     "metadata": {},
     "output_type": "execute_result"
    }
   ],
   "source": [
    "# Show first 5 rows of testing set\n",
    "test.head()"
   ]
  },
  {
   "cell_type": "markdown",
   "id": "09e9237e",
   "metadata": {},
   "source": [
    "#### 2.1.2 - Samples by Classification\n",
    "\n",
    "Sample tweets for class 0 (not a real disaster)."
   ]
  },
  {
   "cell_type": "code",
   "execution_count": 4,
   "id": "dcfe4afa",
   "metadata": {},
   "outputs": [
    {
     "name": "stdout",
     "output_type": "stream",
     "text": [
      "What's up man?\n",
      "===\n",
      "I love fruits\n",
      "===\n",
      "Summer is lovely\n",
      "===\n",
      "My car is so fast\n",
      "===\n",
      "What a goooooooaaaaaal!!!!!!\n",
      "===\n"
     ]
    }
   ],
   "source": [
    "# Print the \"text\" value of the first 5 samples where \"target\" is 0\n",
    "for i in range(5):\n",
    "    print(train[train['target'] == 0]['text'].iloc[i])\n",
    "    print('===')"
   ]
  },
  {
   "cell_type": "markdown",
   "id": "0ad7a64d",
   "metadata": {},
   "source": [
    "Sample tweets for class 1 (real disaster)."
   ]
  },
  {
   "cell_type": "code",
   "execution_count": 5,
   "id": "3b80a58c",
   "metadata": {},
   "outputs": [
    {
     "name": "stdout",
     "output_type": "stream",
     "text": [
      "Our Deeds are the Reason of this #earthquake May ALLAH Forgive us all\n",
      "===\n",
      "Forest fire near La Ronge Sask. Canada\n",
      "===\n",
      "All residents asked to 'shelter in place' are being notified by officers. No other evacuation or shelter in place orders are expected\n",
      "===\n",
      "13,000 people receive #wildfires evacuation orders in California \n",
      "===\n",
      "Just got sent this photo from Ruby #Alaska as smoke from #wildfires pours into a school \n",
      "===\n"
     ]
    }
   ],
   "source": [
    "# Print the \"text\" value of the first 5 samples where \"target\" is 1\n",
    "for i in range(5):\n",
    "    print(train[train['target'] == 1]['text'].iloc[i])\n",
    "    print('===')"
   ]
  },
  {
   "cell_type": "markdown",
   "id": "f9b6fb3e",
   "metadata": {},
   "source": [
    "### 2.2 - Data Cleaning\n",
    "\n",
    "#### 2.2.1 - Missing Values\n",
    "\n",
    "The \"keyword\" and \"location\" columns of both the training and testing sets are expected to have missing values. On the other hand, the \"id\", \"text\", and \"target\" columns should not have any missing values."
   ]
  },
  {
   "cell_type": "code",
   "execution_count": 6,
   "id": "77ba5b5b",
   "metadata": {},
   "outputs": [
    {
     "data": {
      "text/plain": [
       "id             0\n",
       "keyword       61\n",
       "location    2533\n",
       "text           0\n",
       "target         0\n",
       "dtype: int64"
      ]
     },
     "execution_count": 6,
     "metadata": {},
     "output_type": "execute_result"
    }
   ],
   "source": [
    "# Show number of missing values for each column in training set\n",
    "train.isna().sum()"
   ]
  },
  {
   "cell_type": "code",
   "execution_count": 7,
   "id": "15608407",
   "metadata": {},
   "outputs": [
    {
     "data": {
      "text/plain": [
       "id             0\n",
       "keyword       26\n",
       "location    1105\n",
       "text           0\n",
       "dtype: int64"
      ]
     },
     "execution_count": 7,
     "metadata": {},
     "output_type": "execute_result"
    }
   ],
   "source": [
    "# Show number of missing values for each column in testing set\n",
    "test.isna().sum()"
   ]
  },
  {
   "cell_type": "markdown",
   "id": "e48ed94d",
   "metadata": {},
   "source": [
    "#### 2.2.2 - Valid Values\n",
    "\n",
    "The \"target\" column in the training set should only contain the values 0 and 1."
   ]
  },
  {
   "cell_type": "code",
   "execution_count": 8,
   "id": "9de1221a",
   "metadata": {},
   "outputs": [
    {
     "name": "stdout",
     "output_type": "stream",
     "text": [
      "[1 0]\n"
     ]
    }
   ],
   "source": [
    "# Print the unique values in the \"target\" column of the training set\n",
    "print(train['target'].unique())"
   ]
  },
  {
   "cell_type": "markdown",
   "id": "f6f29e9a",
   "metadata": {},
   "source": [
    "#### 2.2.3 - Data Cleaning Summary\n",
    "\n",
    "The \"id\" and \"text\" columns in both sets and the \"target\" column in the training set do not contain any missing values. Additionally, the \"target\" column in the training set only contains the values 0 and 1 as expected. Therefore, the data is clean to use.\n",
    "\n",
    "### 2.3 - Data Visualization"
   ]
  },
  {
   "cell_type": "code",
   "execution_count": 9,
   "id": "a0da7a26",
   "metadata": {},
   "outputs": [
    {
     "data": {
      "image/png": "[encoded data removed]",
      "text/plain": [
       "<Figure size 640x480 with 1 Axes>"
      ]
     },
     "metadata": {},
     "output_type": "display_data"
    }
   ],
   "source": [
    "import numpy as np\n",
    "import matplotlib.pyplot as plt\n",
    "\n",
    "# Get the unique \"target\" values and their counts\n",
    "values, counts = np.unique(train['target'], return_counts=True)\n",
    "\n",
    "plt.bar(values.astype(str), counts)\n",
    "plt.xlabel('Label')\n",
    "plt.ylabel('Frequency')\n",
    "plt.title('Distribution of Labels')\n",
    "plt.show()"
   ]
  },
  {
   "cell_type": "markdown",
   "id": "73da346e",
   "metadata": {},
   "source": [
    "The distribution of labels for tweets in the training set is slightly uneven. However, given that there are thousands of samples of each class, this should not be an issue."
   ]
  },
  {
   "cell_type": "markdown",
   "id": "f01c619b",
   "metadata": {},
   "source": [
    "### 2.4 - Plan of Analysis\n",
    "\n",
    "Based on the EDA, there is no need to significantly alter the usual process for text classification. Of course, a word embedding method would need to be used to represent the words/characters in the tweet numerically for the purpose of classification."
   ]
  },
  {
   "cell_type": "markdown",
   "id": "01ccce40",
   "metadata": {},
   "source": [
    "## 3 - Model Architecture\n",
    "\n",
    "### 3.1 - Word Embedding\n",
    "\n",
    "The Term Frequency - Inverse Document Frequency (TF-IDF) method will be used to extract the text from the tweets into a feature matrix. TF-IDF caculates the importance of a word in a document based on the number of times the word appears in the document and the number of documents the word appears in from the collection of documents. The reasoning for choosing this extraction method is that it gives more weight to words that are rare across all documents but appear more frequently in one document and less weight to words that appear frequently in every document."
   ]
  },
  {
   "cell_type": "code",
   "execution_count": 10,
   "id": "69cdc9b0",
   "metadata": {},
   "outputs": [
    {
     "data": {
      "text/plain": [
       "(7613, 73894)"
      ]
     },
     "execution_count": 10,
     "metadata": {},
     "output_type": "execute_result"
    }
   ],
   "source": [
    "from sklearn.feature_extraction.text import TfidfVectorizer\n",
    "\n",
    "tfidf = TfidfVectorizer(ngram_range=(1,2), stop_words='english')\n",
    "X = tfidf.fit_transform(train['text']).toarray()\n",
    "X.shape"
   ]
  },
  {
   "cell_type": "markdown",
   "id": "49c77e28",
   "metadata": {},
   "source": [
    "### 3.2 - Architectures Considered\n",
    "\n",
    "#### 3.2.1 - Base Architecture"
   ]
  },
  {
   "cell_type": "code",
   "execution_count": 11,
   "id": "bee31027",
   "metadata": {},
   "outputs": [
    {
     "name": "stdout",
     "output_type": "stream",
     "text": [
      "Model: \"sequential\"\n",
      "_________________________________________________________________\n",
      " Layer (type)                Output Shape              Param #   \n",
      "=================================================================\n",
      " simple_rnn (SimpleRNN)      (None, 32)                2365664   \n",
      "                                                                 \n",
      " dense (Dense)               (None, 16)                528       \n",
      "                                                                 \n",
      " dropout (Dropout)           (None, 16)                0         \n",
      "                                                                 \n",
      " dense_1 (Dense)             (None, 1)                 17        \n",
      "                                                                 \n",
      "=================================================================\n",
      "Total params: 2,366,209\n",
      "Trainable params: 2,366,209\n",
      "Non-trainable params: 0\n",
      "_________________________________________________________________\n"
     ]
    }
   ],
   "source": [
    "from tensorflow.keras.models import Sequential\n",
    "from tensorflow.keras.layers import SimpleRNN, Dense, Dropout\n",
    "\n",
    "def create_base_model():\n",
    "    model = Sequential([\n",
    "        SimpleRNN(units=32, activation='relu', input_shape=(1, X.shape[1])),\n",
    "        Dense(16, activation='relu'),\n",
    "        Dropout(0.2),\n",
    "        Dense(1, activation='sigmoid')\n",
    "    ])\n",
    "    model.compile(optimizer='adam', loss='binary_crossentropy', metrics=['accuracy'])\n",
    "    return model\n",
    "\n",
    "create_base_model().summary()"
   ]
  },
  {
   "cell_type": "markdown",
   "id": "817004e1",
   "metadata": {},
   "source": [
    "The model takes as input an array of size 1 x 73,894. The first \"layer\" is a simple RNN with 32 neurons. The ReLU activation function is used after this RNN layer to introduce non-linearity. This is followed by a fully connected layer of 16 neurons. The ReLU activation function is used again following this layer. A dropout layer is then used to help reduce any overfitting by dropping 20% of the neurons in the model so far. The output layer uses the Sigmoid activation function since this is a binary classification problem where the output should be between 0 and 1. \n",
    "\n",
    "#### 3.2.2 - Long Short-Term Memory (LSTM)"
   ]
  },
  {
   "cell_type": "code",
   "execution_count": 12,
   "id": "d014df7f",
   "metadata": {},
   "outputs": [
    {
     "name": "stdout",
     "output_type": "stream",
     "text": [
      "Model: \"sequential_1\"\n",
      "_________________________________________________________________\n",
      " Layer (type)                Output Shape              Param #   \n",
      "=================================================================\n",
      " lstm (LSTM)                 (None, 32)                9462656   \n",
      "                                                                 \n",
      " dense_2 (Dense)             (None, 16)                528       \n",
      "                                                                 \n",
      " dropout_1 (Dropout)         (None, 16)                0         \n",
      "                                                                 \n",
      " dense_3 (Dense)             (None, 1)                 17        \n",
      "                                                                 \n",
      "=================================================================\n",
      "Total params: 9,463,201\n",
      "Trainable params: 9,463,201\n",
      "Non-trainable params: 0\n",
      "_________________________________________________________________\n"
     ]
    }
   ],
   "source": [
    "from tensorflow.keras.layers import LSTM\n",
    "\n",
    "def create_lstm_model():\n",
    "    model = Sequential([\n",
    "        LSTM(units=32, activation='relu', input_shape=(1, X.shape[1])),\n",
    "        Dense(16, activation='relu'),\n",
    "        Dropout(0.2),\n",
    "        Dense(1, activation='sigmoid')\n",
    "    ])\n",
    "    model.compile(optimizer='adam', loss='binary_crossentropy', metrics=['accuracy'])\n",
    "    return model\n",
    "\n",
    "create_lstm_model().summary()"
   ]
  },
  {
   "cell_type": "markdown",
   "id": "95db1f33",
   "metadata": {},
   "source": [
    "This architecture is similar to the base architecture, but the only difference being that this architecture uses an RNN with LSTM instead of a simple RNN.\n",
    "\n",
    "#### 3.2.3 - Gated Recurrent Unit (GRU)"
   ]
  },
  {
   "cell_type": "code",
   "execution_count": 13,
   "id": "fa09c4e2",
   "metadata": {},
   "outputs": [
    {
     "name": "stdout",
     "output_type": "stream",
     "text": [
      "Model: \"sequential_2\"\n",
      "_________________________________________________________________\n",
      " Layer (type)                Output Shape              Param #   \n",
      "=================================================================\n",
      " gru (GRU)                   (None, 32)                7097088   \n",
      "                                                                 \n",
      " dense_4 (Dense)             (None, 16)                528       \n",
      "                                                                 \n",
      " dropout_2 (Dropout)         (None, 16)                0         \n",
      "                                                                 \n",
      " dense_5 (Dense)             (None, 1)                 17        \n",
      "                                                                 \n",
      "=================================================================\n",
      "Total params: 7,097,633\n",
      "Trainable params: 7,097,633\n",
      "Non-trainable params: 0\n",
      "_________________________________________________________________\n"
     ]
    }
   ],
   "source": [
    "from tensorflow.keras.layers import GRU\n",
    "\n",
    "def create_gru_model():\n",
    "    model = Sequential([\n",
    "        GRU(units=32, activation='relu', input_shape=(1, X.shape[1])),\n",
    "        Dense(16, activation='relu'),\n",
    "        Dropout(0.2),\n",
    "        Dense(1, activation='sigmoid')\n",
    "    ])\n",
    "    model.compile(optimizer='adam', loss='binary_crossentropy', metrics=['accuracy'])\n",
    "    return model\n",
    "\n",
    "create_gru_model().summary()"
   ]
  },
  {
   "cell_type": "markdown",
   "id": "82f51976",
   "metadata": {},
   "source": [
    "This architecture is similar to the base architecture, but the only difference being that this architecture uses an RNN with GRUs instead of a simple RNN.\n",
    "\n",
    "### 3.3 - Hyperparameters\n",
    "\n",
    "Due to limited resources in terms of computing power and time, the hyperparameters that will be considered are those involved in training a neural network.\n",
    "\n",
    "The hyperparameters that will be tuned are:\n",
    "- Number of epochs\n",
    "- Batch size"
   ]
  },
  {
   "cell_type": "markdown",
   "id": "8351fede",
   "metadata": {},
   "source": [
    "## 4 - Results and Analysis\n",
    "\n",
    "### 4.1 - Hyperparameter Tuning\n",
    "\n",
    "The hyperparameter tuning procedure will consider 10 and 20 as values for the number of epochs and 64, 128, and 256 as values for the batch size."
   ]
  },
  {
   "cell_type": "code",
   "execution_count": 14,
   "id": "81582b5e",
   "metadata": {},
   "outputs": [],
   "source": [
    "from sklearn.model_selection import train_test_split\n",
    "from tensorflow.keras.callbacks import EarlyStopping\n",
    "\n",
    "# Split the training set into training and validation sets\n",
    "X_train, X_val, y_train, y_val = train_test_split(X, train['target'].values, test_size=0.2, random_state=123)\n",
    "\n",
    "# Reshape the input to match RNN input requirements\n",
    "X_train = np.expand_dims(X_train, axis=1)\n",
    "X_val = np.expand_dims(X_val, axis=1)\n",
    "\n",
    "# Hyperparameters and values considered\n",
    "num_epochs = [10, 20]\n",
    "batch_sizes = [64, 128, 256]\n",
    "\n",
    "# Returns best # of epochs, batch size, validation accuracy, and model\n",
    "def tune_hyperparameters(create_model):\n",
    "    val_accs = {}\n",
    "    best_val_acc = 0\n",
    "    best_h_params = { 'num_epochs': None, 'batch_size': None }\n",
    "    best_hp_model = None\n",
    "    \n",
    "    for epochs in num_epochs:\n",
    "        val_accs[epochs] = {}\n",
    "        for batch_size in batch_sizes:\n",
    "            print(f'# of epochs: {epochs}, batch size: {batch_size}')\n",
    "            model = create_model()\n",
    "            early_stopping = EarlyStopping(monitor='val_accuracy', patience=3, restore_best_weights=True)\n",
    "            history = model.fit(\n",
    "                X_train, y_train,\n",
    "                validation_data=(X_val, y_val),\n",
    "                epochs=epochs,\n",
    "                batch_size=batch_size,\n",
    "                callbacks=[early_stopping],\n",
    "                verbose=0\n",
    "            )\n",
    "            val_acc = max(history.history['val_accuracy'])\n",
    "            print(f'Validation accuracy: {val_acc}')\n",
    "            val_accs[epochs][batch_size] = val_acc\n",
    "            if val_acc > best_val_acc:\n",
    "                best_val_acc = val_acc\n",
    "                best_h_params['num_epochs'] = epochs\n",
    "                best_h_params['batch_size'] = batch_size\n",
    "                best_hp_model = model\n",
    "                \n",
    "    return val_accs, best_val_acc, best_h_params, best_hp_model"
   ]
  },
  {
   "cell_type": "code",
   "execution_count": 15,
   "id": "786709e9",
   "metadata": {},
   "outputs": [
    {
     "name": "stdout",
     "output_type": "stream",
     "text": [
      "# of epochs: 10, batch size: 64\n",
      "Validation accuracy: 0.810899555683136\n",
      "# of epochs: 10, batch size: 128\n",
      "Validation accuracy: 0.8154957294464111\n",
      "# of epochs: 10, batch size: 256\n",
      "Validation accuracy: 0.7905449867248535\n",
      "# of epochs: 20, batch size: 64\n",
      "Validation accuracy: 0.7951411604881287\n",
      "# of epochs: 20, batch size: 128\n",
      "Validation accuracy: 0.8010505437850952\n",
      "# of epochs: 20, batch size: 256\n",
      "Validation accuracy: 0.8049901723861694\n"
     ]
    }
   ],
   "source": [
    "base_val_accs, base_best_val_acc, base_best_h_params, base_best_hp_model = tune_hyperparameters(create_base_model)"
   ]
  },
  {
   "cell_type": "code",
   "execution_count": 16,
   "id": "44611864",
   "metadata": {},
   "outputs": [
    {
     "name": "stdout",
     "output_type": "stream",
     "text": [
      "Best validation accuracy: 0.8154957294464111\n",
      "Best number of epochs: 10\n",
      "Best batch size: 128\n"
     ]
    }
   ],
   "source": [
    "print(f'Best validation accuracy: {base_best_val_acc}')\n",
    "print(f'Best number of epochs: {base_best_h_params[\"num_epochs\"]}')\n",
    "print(f'Best batch size: {base_best_h_params[\"batch_size\"]}')"
   ]
  },
  {
   "cell_type": "markdown",
   "id": "dd470022",
   "metadata": {},
   "source": [
    "The base architecture model trained with a batch size of 128 over 10 epochs gave the best validation accuracy.\n",
    "\n",
    "### 4.2 - Techniques to Improve Training or Performance\n",
    "\n",
    "Using the architectures that use LSTM and GRU, it may be possible to train a model with better performance. Hyperparameter tuning will be performed similar to that of the base architecture with the same hyperparameters and values considered.\n",
    "\n",
    "#### 4.2.1 - LSTM Architecture"
   ]
  },
  {
   "cell_type": "code",
   "execution_count": 17,
   "id": "6b5a0579",
   "metadata": {},
   "outputs": [
    {
     "name": "stdout",
     "output_type": "stream",
     "text": [
      "# of epochs: 10, batch size: 64\n",
      "Validation accuracy: 0.8043335676193237\n",
      "# of epochs: 10, batch size: 128\n",
      "Validation accuracy: 0.8056467771530151\n",
      "# of epochs: 10, batch size: 256\n",
      "Validation accuracy: 0.7839789986610413\n",
      "# of epochs: 20, batch size: 64\n",
      "Validation accuracy: 0.7977675795555115\n",
      "# of epochs: 20, batch size: 128\n",
      "Validation accuracy: 0.8030203580856323\n",
      "# of epochs: 20, batch size: 256\n",
      "Validation accuracy: 0.780039370059967\n"
     ]
    }
   ],
   "source": [
    "lstm_val_accs, lstm_best_val_acc, lstm_best_h_params, lstm_best_hp_model = tune_hyperparameters(create_lstm_model)"
   ]
  },
  {
   "cell_type": "code",
   "execution_count": 18,
   "id": "b942659d",
   "metadata": {},
   "outputs": [
    {
     "name": "stdout",
     "output_type": "stream",
     "text": [
      "Best validation accuracy: 0.8056467771530151\n",
      "Best number of epochs: 10\n",
      "Best batch size: 128\n"
     ]
    }
   ],
   "source": [
    "print(f'Best validation accuracy: {lstm_best_val_acc}')\n",
    "print(f'Best number of epochs: {lstm_best_h_params[\"num_epochs\"]}')\n",
    "print(f'Best batch size: {lstm_best_h_params[\"batch_size\"]}')"
   ]
  },
  {
   "cell_type": "markdown",
   "id": "97255ca3",
   "metadata": {},
   "source": [
    "The LSTM architecture model trained with a batch size of 128 over 10 epochs gave the best validation accuracy.\n",
    "\n",
    "#### 4.2.2 - GRU Architecture"
   ]
  },
  {
   "cell_type": "code",
   "execution_count": 19,
   "id": "49fc0822",
   "metadata": {},
   "outputs": [
    {
     "name": "stdout",
     "output_type": "stream",
     "text": [
      "# of epochs: 10, batch size: 64\n",
      "Validation accuracy: 0.8063033223152161\n",
      "# of epochs: 10, batch size: 128\n",
      "Validation accuracy: 0.803676962852478\n",
      "# of epochs: 10, batch size: 256\n",
      "Validation accuracy: 0.8023637533187866\n",
      "# of epochs: 20, batch size: 64\n",
      "Validation accuracy: 0.8063033223152161\n",
      "# of epochs: 20, batch size: 128\n",
      "Validation accuracy: 0.8030203580856323\n",
      "# of epochs: 20, batch size: 256\n",
      "Validation accuracy: 0.7938279509544373\n"
     ]
    }
   ],
   "source": [
    "gru_val_accs, gru_best_val_acc, gru_best_h_params, gru_best_hp_model = tune_hyperparameters(create_gru_model)"
   ]
  },
  {
   "cell_type": "code",
   "execution_count": 20,
   "id": "2c77a8d8",
   "metadata": {},
   "outputs": [
    {
     "name": "stdout",
     "output_type": "stream",
     "text": [
      "Best validation accuracy: 0.8063033223152161\n",
      "Best number of epochs: 10\n",
      "Best batch size: 64\n"
     ]
    }
   ],
   "source": [
    "print(f'Best validation accuracy: {gru_best_val_acc}')\n",
    "print(f'Best number of epochs: {gru_best_h_params[\"num_epochs\"]}')\n",
    "print(f'Best batch size: {gru_best_h_params[\"batch_size\"]}')"
   ]
  },
  {
   "cell_type": "markdown",
   "id": "2f6c30c3",
   "metadata": {},
   "source": [
    "The GRU architecture model trained with a batch size of 64 over 10 epochs gave the best validation accuracy.\n",
    "\n",
    "### 4.3 - Results\n",
    "\n",
    "#### 4.3.1 - Base Architecture"
   ]
  },
  {
   "cell_type": "code",
   "execution_count": 21,
   "id": "2ac1ce44",
   "metadata": {},
   "outputs": [
    {
     "data": {
      "text/plain": [
       "{10: {64: 0.810899555683136, 128: 0.8154957294464111, 256: 0.7905449867248535},\n",
       " 20: {64: 0.7951411604881287,\n",
       "  128: 0.8010505437850952,\n",
       "  256: 0.8049901723861694}}"
      ]
     },
     "execution_count": 21,
     "metadata": {},
     "output_type": "execute_result"
    }
   ],
   "source": [
    "base_val_accs"
   ]
  },
  {
   "cell_type": "markdown",
   "id": "61edb56d",
   "metadata": {},
   "source": [
    "Hyperparameter tuning results for number of epochs and batch size for base architecture:\n",
    "\n",
    "|| 64 Batch Size | 128 Batch Size | 256 Batch Size |\n",
    "| :-: | :-: | :-: | :-: |\n",
    "| **10 Epochs** | 0.811 | 0.815 | 0.791 |\n",
    "| **20 Epochs** | 0.795 | 0.801 | 0.805 |\n",
    "\n",
    "#### 4.3.2 - LSTM Architecture"
   ]
  },
  {
   "cell_type": "code",
   "execution_count": 22,
   "id": "32b1d4af",
   "metadata": {},
   "outputs": [
    {
     "data": {
      "text/plain": [
       "{10: {64: 0.8043335676193237,\n",
       "  128: 0.8056467771530151,\n",
       "  256: 0.7839789986610413},\n",
       " 20: {64: 0.7977675795555115, 128: 0.8030203580856323, 256: 0.780039370059967}}"
      ]
     },
     "execution_count": 22,
     "metadata": {},
     "output_type": "execute_result"
    }
   ],
   "source": [
    "lstm_val_accs"
   ]
  },
  {
   "cell_type": "markdown",
   "id": "86dd3bbb",
   "metadata": {},
   "source": [
    "Hyperparameter tuning results for number of epochs and batch size for LSTM architecture:\n",
    "\n",
    "|| 64 Batch Size | 128 Batch Size | 256 Batch Size |\n",
    "| :-: | :-: | :-: | :-: |\n",
    "| **10 Epochs** | 0.804 | 0.806 | 0.784 |\n",
    "| **20 Epochs** | 0.798 | 0.803 | 0.780 |\n",
    "\n",
    "#### 4.3.3 - GRU Architecture"
   ]
  },
  {
   "cell_type": "code",
   "execution_count": 23,
   "id": "4267432c",
   "metadata": {},
   "outputs": [
    {
     "data": {
      "text/plain": [
       "{10: {64: 0.8063033223152161, 128: 0.803676962852478, 256: 0.8023637533187866},\n",
       " 20: {64: 0.8063033223152161,\n",
       "  128: 0.8030203580856323,\n",
       "  256: 0.7938279509544373}}"
      ]
     },
     "execution_count": 23,
     "metadata": {},
     "output_type": "execute_result"
    }
   ],
   "source": [
    "gru_val_accs"
   ]
  },
  {
   "cell_type": "markdown",
   "id": "ba208205",
   "metadata": {},
   "source": [
    "Hyperparameter tuning results for number of epochs and batch size for GRU architecture:\n",
    "\n",
    "|| 64 Batch Size | 128 Batch Size | 256 Batch Size |\n",
    "| :-: | :-: | :-: | :-: |\n",
    "| **10 Epochs** | 0.806 | 0.804 | 0.802 |\n",
    "| **20 Epochs** | 0.806 | 0.803 | 0.794 |\n",
    "\n",
    "#### 4.3.4 - Summary\n",
    "\n",
    "Best accuracies achieved across architectures:\n",
    "\n",
    "| Architecture | Best Validation Accuracy |\n",
    "| :-: | :-: |\n",
    "| Base | 0.815 |\n",
    "| LSTM | 0.806 |\n",
    "| GRU | 0.806 |\n",
    "\n",
    "### 4.4 - Analysis\n",
    "\n",
    "The best validation accuracy obtained through hyperparameter tuning for the base architecture was 0.815. The best validation accuracies obtained for both the LSTM and GRU architectures were lower than the one for the base architecture. Despite LSTM and GRU having advantages over the base model, the lower validation accuracies for these models could indicate overfitting.\n",
    "\n",
    "### 4.5 - Test Data Prediction\n",
    "\n",
    "Creating the submission file for the Natural Language Processing with Disaster Tweets competition using the best base model obtained after hyperparameter tuning."
   ]
  },
  {
   "cell_type": "code",
   "execution_count": 24,
   "id": "7977f078",
   "metadata": {
    "scrolled": true
   },
   "outputs": [
    {
     "name": "stdout",
     "output_type": "stream",
     "text": [
      "102/102 [==============================] - 1s 5ms/step\n"
     ]
    }
   ],
   "source": [
    "X_test = tfidf.transform(test['text']).toarray()\n",
    "X_test = np.expand_dims(X_test, axis=1)\n",
    "\n",
    "predictions = base_best_hp_model.predict(X_test)\n",
    "pred_labels = (predictions > 0.5).astype(int).reshape(-1)\n",
    "\n",
    "output = pd.DataFrame({'id': test['id'], 'target': pred_labels})\n",
    "output.to_csv('output.csv', index=False)"
   ]
  },
  {
   "cell_type": "markdown",
   "id": "ca638f36",
   "metadata": {},
   "source": [
    "The F1 score on the testing set was 0.794.\n",
    "\n",
    "## 5 - Conclusion\n",
    "\n",
    "In this project, an RNN was developed and trained with the goal of being able to classify whether a tweet is about a real disaster or not. Three different architectures were considered and compared. Based on hyperparameter tuning results, the model with the base architecture had better performance and the best number of epochs was 10 and the best batch size was 128. This gave a validation accuracy of 0.815.\n",
    "\n",
    "Two techniques to help improve the performance of the model were considered: LSTM and GRU. Using the LSTM architecture did not help improve performance since the best validation accuracy obtained was 0.806. Similarly, using the GRU architecture did not help improve performance since the best validation accuracy obtained was also 0.806. Based on these results, it is possible that these two techniques did not help since the model is overfitting.\n",
    "\n",
    "Some possible improvements to try in the future include decreasing the model complexity and trying different techniques to help improve performance. The models may be overfitting, so experimenting with different techniques that help reduce overfitting may be useful."
   ]
  }
 ],
 "metadata": {
  "kernelspec": {
   "display_name": "Python 3 (ipykernel)",
   "language": "python",
   "name": "python3"
  },
  "language_info": {
   "codemirror_mode": {
    "name": "ipython",
    "version": 3
   },
   "file_extension": ".py",
   "mimetype": "text/x-python",
   "name": "python",
   "nbconvert_exporter": "python",
   "pygments_lexer": "ipython3",
   "version": "3.11.9"
  }
 },
 "nbformat": 4,
 "nbformat_minor": 5
}
